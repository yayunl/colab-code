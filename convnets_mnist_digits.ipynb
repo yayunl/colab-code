{
  "nbformat": 4,
  "nbformat_minor": 0,
  "metadata": {
    "colab": {
      "provenance": [],
      "authorship_tag": "ABX9TyOJqbnDY6MjKRxbD4knZs+7",
      "include_colab_link": true
    },
    "kernelspec": {
      "name": "python3",
      "display_name": "Python 3"
    },
    "language_info": {
      "name": "python"
    }
  },
  "cells": [
    {
      "cell_type": "markdown",
      "metadata": {
        "id": "view-in-github",
        "colab_type": "text"
      },
      "source": [
        "<a href=\"https://colab.research.google.com/github/yayunl/colab-code/blob/main/convnets_mnist_digits.ipynb\" target=\"_parent\"><img src=\"https://colab.research.google.com/assets/colab-badge.svg\" alt=\"Open In Colab\"/></a>"
      ]
    },
    {
      "cell_type": "code",
      "execution_count": 2,
      "metadata": {
        "id": "c1f9WNRt1HrN"
      },
      "outputs": [],
      "source": [
        "from keras.datasets import mnist\n",
        "from keras.utils import to_categorical"
      ]
    },
    {
      "cell_type": "markdown",
      "source": [
        "**Load the datasets**"
      ],
      "metadata": {
        "id": "XNY8nN9E4VbB"
      }
    },
    {
      "cell_type": "code",
      "source": [
        "(train_images, train_labels), (test_images, test_labels) = mnist.load_data()"
      ],
      "metadata": {
        "colab": {
          "base_uri": "https://localhost:8080/"
        },
        "id": "rYbIcsGd39m9",
        "outputId": "19bb1128-de63-4369-8f7f-a2f7109904ca"
      },
      "execution_count": 3,
      "outputs": [
        {
          "output_type": "stream",
          "name": "stdout",
          "text": [
            "Downloading data from https://storage.googleapis.com/tensorflow/tf-keras-datasets/mnist.npz\n",
            "11490434/11490434 [==============================] - 1s 0us/step\n"
          ]
        }
      ]
    },
    {
      "cell_type": "code",
      "source": [
        "train_images = train_images.reshape((60000, 28, 28, 1))\n",
        "train_iamges = train_images.astype('float32') / 255\n",
        "\n",
        "test_images = test_images.reshape((10000, 28, 28, 1))\n",
        "test_images = test_images.astype('float32') / 25\n",
        "\n",
        "train_labels = to_categorical(train_labels)\n",
        "test_labels = to_categorical(test_labels)"
      ],
      "metadata": {
        "id": "YRvjni4V4CB6"
      },
      "execution_count": 4,
      "outputs": []
    },
    {
      "cell_type": "markdown",
      "source": [
        "**Build the Convnets**"
      ],
      "metadata": {
        "id": "W24kqr5Y4bVb"
      }
    },
    {
      "cell_type": "code",
      "source": [
        "from keras import layers\n",
        "from keras import models\n",
        "\n",
        "model = models.Sequential()\n",
        "model.add(layers.Conv2D(32, (3, 3), activation='relu', input_shape=(28, 28, 1)))\n",
        "model.add(layers.MaxPooling2D((2, 2)))\n",
        "model.add(layers.Conv2D(64, (3, 3), activation='relu'))\n",
        "model.add(layers.MaxPooling2D((2, 2)))\n",
        "model.add(layers.Conv2D(64, (3, 3), activation='relu'))\n",
        "\n",
        "# Connect to Dense layers\n",
        "model.add(layers.Flatten())\n",
        "model.add(layers.Dense(64, activation='relu'))\n",
        "model.add(layers.Dense(10, activation='softmax'))"
      ],
      "metadata": {
        "id": "4ylSnkFK4UW6"
      },
      "execution_count": 7,
      "outputs": []
    },
    {
      "cell_type": "code",
      "source": [
        "model.summary()"
      ],
      "metadata": {
        "colab": {
          "base_uri": "https://localhost:8080/"
        },
        "id": "UaHae6VO4hnC",
        "outputId": "e60d274f-c655-485e-bef5-9421e23f80f5"
      },
      "execution_count": 8,
      "outputs": [
        {
          "output_type": "stream",
          "name": "stdout",
          "text": [
            "Model: \"sequential_1\"\n",
            "_________________________________________________________________\n",
            " Layer (type)                Output Shape              Param #   \n",
            "=================================================================\n",
            " conv2d_3 (Conv2D)           (None, 26, 26, 32)        320       \n",
            "                                                                 \n",
            " max_pooling2d_2 (MaxPoolin  (None, 13, 13, 32)        0         \n",
            " g2D)                                                            \n",
            "                                                                 \n",
            " conv2d_4 (Conv2D)           (None, 11, 11, 64)        18496     \n",
            "                                                                 \n",
            " max_pooling2d_3 (MaxPoolin  (None, 5, 5, 64)          0         \n",
            " g2D)                                                            \n",
            "                                                                 \n",
            " conv2d_5 (Conv2D)           (None, 3, 3, 64)          36928     \n",
            "                                                                 \n",
            " flatten (Flatten)           (None, 576)               0         \n",
            "                                                                 \n",
            " dense (Dense)               (None, 64)                36928     \n",
            "                                                                 \n",
            " dense_1 (Dense)             (None, 10)                650       \n",
            "                                                                 \n",
            "=================================================================\n",
            "Total params: 93322 (364.54 KB)\n",
            "Trainable params: 93322 (364.54 KB)\n",
            "Non-trainable params: 0 (0.00 Byte)\n",
            "_________________________________________________________________\n"
          ]
        }
      ]
    },
    {
      "cell_type": "code",
      "source": [
        "model.compile(optimizer='rmsprop',\n",
        "              loss='categorical_crossentropy',\n",
        "              metrics=['accuracy'])"
      ],
      "metadata": {
        "id": "wehz8aRs4i_C"
      },
      "execution_count": 9,
      "outputs": []
    },
    {
      "cell_type": "code",
      "source": [
        "model.fit(train_images, train_labels, epochs=20, batch_size=64)"
      ],
      "metadata": {
        "colab": {
          "base_uri": "https://localhost:8080/"
        },
        "id": "N48tR5B54wor",
        "outputId": "90b07a32-b7fb-4a25-b0cd-92ff63e20900"
      },
      "execution_count": 12,
      "outputs": [
        {
          "output_type": "stream",
          "name": "stdout",
          "text": [
            "Epoch 1/20\n",
            "938/938 [==============================] - 59s 63ms/step - loss: 0.0284 - accuracy: 0.9931\n",
            "Epoch 2/20\n",
            "938/938 [==============================] - 61s 65ms/step - loss: 0.0269 - accuracy: 0.9934\n",
            "Epoch 3/20\n",
            "938/938 [==============================] - 59s 63ms/step - loss: 0.0247 - accuracy: 0.9941\n",
            "Epoch 4/20\n",
            "938/938 [==============================] - 59s 63ms/step - loss: 0.0209 - accuracy: 0.9951\n",
            "Epoch 5/20\n",
            "938/938 [==============================] - 61s 65ms/step - loss: 0.0199 - accuracy: 0.9953\n",
            "Epoch 6/20\n",
            "938/938 [==============================] - 59s 62ms/step - loss: 0.0182 - accuracy: 0.9958\n",
            "Epoch 7/20\n",
            "938/938 [==============================] - 59s 63ms/step - loss: 0.0216 - accuracy: 0.9955\n",
            "Epoch 8/20\n",
            "938/938 [==============================] - 60s 64ms/step - loss: 0.0190 - accuracy: 0.9965\n",
            "Epoch 9/20\n",
            "938/938 [==============================] - 61s 65ms/step - loss: 0.0194 - accuracy: 0.9960\n",
            "Epoch 10/20\n",
            "938/938 [==============================] - 59s 62ms/step - loss: 0.0176 - accuracy: 0.9969\n",
            "Epoch 11/20\n",
            "938/938 [==============================] - 58s 62ms/step - loss: 0.0167 - accuracy: 0.9973\n",
            "Epoch 12/20\n",
            "938/938 [==============================] - 58s 62ms/step - loss: 0.0193 - accuracy: 0.9972\n",
            "Epoch 13/20\n",
            "938/938 [==============================] - 60s 64ms/step - loss: 0.0180 - accuracy: 0.9970\n",
            "Epoch 14/20\n",
            "938/938 [==============================] - 59s 62ms/step - loss: 0.0189 - accuracy: 0.9972\n",
            "Epoch 15/20\n",
            "938/938 [==============================] - 58s 62ms/step - loss: 0.0199 - accuracy: 0.9971\n",
            "Epoch 16/20\n",
            "938/938 [==============================] - 59s 63ms/step - loss: 0.0184 - accuracy: 0.9974\n",
            "Epoch 17/20\n",
            "938/938 [==============================] - 60s 64ms/step - loss: 0.0208 - accuracy: 0.9975\n",
            "Epoch 18/20\n",
            "938/938 [==============================] - 58s 62ms/step - loss: 0.0180 - accuracy: 0.9973\n",
            "Epoch 19/20\n",
            "938/938 [==============================] - 60s 64ms/step - loss: 0.0176 - accuracy: 0.9977\n",
            "Epoch 20/20\n",
            "938/938 [==============================] - 58s 61ms/step - loss: 0.0179 - accuracy: 0.9977\n"
          ]
        },
        {
          "output_type": "execute_result",
          "data": {
            "text/plain": [
              "<keras.src.callbacks.History at 0x7d6d74132950>"
            ]
          },
          "metadata": {},
          "execution_count": 12
        }
      ]
    },
    {
      "cell_type": "code",
      "source": [
        "test_loss, test_acc = model.evaluate(test_images, test_labels)"
      ],
      "metadata": {
        "colab": {
          "base_uri": "https://localhost:8080/"
        },
        "id": "WZJ2s_CO4yyc",
        "outputId": "c0a06f49-0876-4d16-db03-99be9111af25"
      },
      "execution_count": 13,
      "outputs": [
        {
          "output_type": "stream",
          "name": "stdout",
          "text": [
            "313/313 [==============================] - 3s 10ms/step - loss: 0.6825 - accuracy: 0.9749\n"
          ]
        }
      ]
    },
    {
      "cell_type": "code",
      "source": [],
      "metadata": {
        "id": "1euKpZKY6IWe"
      },
      "execution_count": null,
      "outputs": []
    }
  ]
}