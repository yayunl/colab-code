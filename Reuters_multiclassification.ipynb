{
  "nbformat": 4,
  "nbformat_minor": 0,
  "metadata": {
    "colab": {
      "provenance": [],
      "authorship_tag": "ABX9TyNarfw+LDmI9F+eo8rUqdO0",
      "include_colab_link": true
    },
    "kernelspec": {
      "name": "python3",
      "display_name": "Python 3"
    },
    "language_info": {
      "name": "python"
    }
  },
  "cells": [
    {
      "cell_type": "markdown",
      "metadata": {
        "id": "view-in-github",
        "colab_type": "text"
      },
      "source": [
        "<a href=\"https://colab.research.google.com/github/yayunl/colab-code/blob/main/Reuters_multiclassification.ipynb\" target=\"_parent\"><img src=\"https://colab.research.google.com/assets/colab-badge.svg\" alt=\"Open In Colab\"/></a>"
      ]
    },
    {
      "cell_type": "code",
      "execution_count": 1,
      "metadata": {
        "id": "OYlBK2jNLw0-"
      },
      "outputs": [],
      "source": [
        "from keras.datasets import reuters\n"
      ]
    },
    {
      "cell_type": "markdown",
      "source": [
        "**Load the Reuters dataset**"
      ],
      "metadata": {
        "id": "N5oWcn8yMfIW"
      }
    },
    {
      "cell_type": "code",
      "source": [
        "(train_data, train_labels), (test_data, test_labels) = reuters.load_data(num_words=10000)"
      ],
      "metadata": {
        "colab": {
          "base_uri": "https://localhost:8080/"
        },
        "id": "9iVTqq__MB9l",
        "outputId": "e8c635dd-15ec-4276-bc25-9056571005ab"
      },
      "execution_count": 2,
      "outputs": [
        {
          "output_type": "stream",
          "name": "stdout",
          "text": [
            "Downloading data from https://storage.googleapis.com/tensorflow/tf-keras-datasets/reuters.npz\n",
            "2110848/2110848 [==============================] - 0s 0us/step\n"
          ]
        }
      ]
    },
    {
      "cell_type": "code",
      "source": [
        "len(train_data)"
      ],
      "metadata": {
        "colab": {
          "base_uri": "https://localhost:8080/"
        },
        "id": "aLbLTnJIMHvq",
        "outputId": "e0d1326e-3110-40de-8c15-e3156e28d103"
      },
      "execution_count": 3,
      "outputs": [
        {
          "output_type": "execute_result",
          "data": {
            "text/plain": [
              "8982"
            ]
          },
          "metadata": {},
          "execution_count": 3
        }
      ]
    },
    {
      "cell_type": "code",
      "source": [
        "len(test_data)"
      ],
      "metadata": {
        "colab": {
          "base_uri": "https://localhost:8080/"
        },
        "id": "buJw76o2MJd5",
        "outputId": "4601d1e2-64d8-4754-fcbf-b3784e1e744f"
      },
      "execution_count": 4,
      "outputs": [
        {
          "output_type": "execute_result",
          "data": {
            "text/plain": [
              "2246"
            ]
          },
          "metadata": {},
          "execution_count": 4
        }
      ]
    },
    {
      "cell_type": "code",
      "source": [
        "word_index = reuters.get_word_index()\n",
        "reverse_word_index = dict([(value, key) for (key, value) in word_index.items()])\n",
        "decoded_review = ' '.join([reverse_word_index.get(i - 3, '?') for i in train_data[0]])"
      ],
      "metadata": {
        "id": "ebaxtC_MMKkK"
      },
      "execution_count": 7,
      "outputs": []
    },
    {
      "cell_type": "code",
      "source": [
        "decoded_review\n",
        "#"
      ],
      "metadata": {
        "colab": {
          "base_uri": "https://localhost:8080/",
          "height": 53
        },
        "id": "bll5t9gOMSpq",
        "outputId": "ab8ce353-a570-47f4-8c34-a3fcb79d7cec"
      },
      "execution_count": 8,
      "outputs": [
        {
          "output_type": "execute_result",
          "data": {
            "text/plain": [
              "'? ? ? said as a result of its december acquisition of space co it expects earnings per share in 1987 of 1 15 to 1 30 dlrs per share up from 70 cts in 1986 the company said pretax net should rise to nine to 10 mln dlrs from six mln dlrs in 1986 and rental operation revenues to 19 to 22 mln dlrs from 12 5 mln dlrs it said cash flow per share this year should be 2 50 to three dlrs reuter 3'"
            ],
            "application/vnd.google.colaboratory.intrinsic+json": {
              "type": "string"
            }
          },
          "metadata": {},
          "execution_count": 8
        }
      ]
    },
    {
      "cell_type": "code",
      "source": [
        "train_labels[10]"
      ],
      "metadata": {
        "colab": {
          "base_uri": "https://localhost:8080/"
        },
        "id": "zZf35PzdMW75",
        "outputId": "647bc5a9-f316-478a-c840-bc881710a164"
      },
      "execution_count": 9,
      "outputs": [
        {
          "output_type": "execute_result",
          "data": {
            "text/plain": [
              "3"
            ]
          },
          "metadata": {},
          "execution_count": 9
        }
      ]
    },
    {
      "cell_type": "markdown",
      "source": [
        "**Prepare the data**"
      ],
      "metadata": {
        "id": "o0TwbrqvMcRH"
      }
    },
    {
      "cell_type": "code",
      "source": [
        "import numpy as np\n",
        "def vectorize_sequences(sequences, dimension=10000):\n",
        "    results = np.zeros((len(sequences), dimension))\n",
        "    # Set specific indices of results[i] to 1s\n",
        "    for i, sequence in enumerate(sequences):\n",
        "        results[i, sequence] = 1.\n",
        "    return results\n",
        "\n",
        "x_train = vectorize_sequences(train_data)\n",
        "x_test = vectorize_sequences(test_data)"
      ],
      "metadata": {
        "id": "WaIPE28YMZ_q"
      },
      "execution_count": 10,
      "outputs": []
    },
    {
      "cell_type": "code",
      "source": [
        "# One-hot encoding the labels\n",
        "def to_one_hot(labels, dimension=46):\n",
        "    results = np.zeros((len(labels), dimension))\n",
        "    for i, label in enumerate(labels):\n",
        "        results[i, label] = 1.\n",
        "    return results\n",
        "\n",
        "one_hot_train_labels = to_one_hot(train_labels)\n",
        "one_hot_test_labels = to_one_hot(test_labels)\n",
        "# Alternatively,\n",
        "# from keras.utils.np_utils import to_categorical\n",
        "# one_hot_train_labels = to_categorical(train_labels)\n",
        "# one_hot_test_labels = to_categorical(test_labels)"
      ],
      "metadata": {
        "id": "sNBhKpAYMl_R"
      },
      "execution_count": 13,
      "outputs": []
    },
    {
      "cell_type": "markdown",
      "source": [
        "**Build the network**"
      ],
      "metadata": {
        "id": "4y_AGpx9NB5Y"
      }
    },
    {
      "cell_type": "code",
      "source": [
        "from keras import models\n",
        "from keras import layers\n",
        "\n",
        "input_dim = x_train[0].shape[0]\n",
        "model = models.Sequential()\n",
        "model.add(layers.Dense(64, activation='relu', input_shape=(10000,)))\n",
        "model.add(layers.Dense(64, activation='relu'))\n",
        "model.add(layers.Dense(46, activation='softmax'))"
      ],
      "metadata": {
        "id": "tZmIrQoHMvli"
      },
      "execution_count": 22,
      "outputs": []
    },
    {
      "cell_type": "code",
      "source": [
        "model.compile(optimizer='rmsprop',\n",
        "              loss='categorical_crossentropy',\n",
        "              metrics=['accuracy'])"
      ],
      "metadata": {
        "id": "2tvmSW-lNnbJ"
      },
      "execution_count": 23,
      "outputs": []
    },
    {
      "cell_type": "code",
      "source": [
        "# Create validation data\n",
        "x_val = x_train[:1000]\n",
        "partial_x_train = x_train[1000:]\n",
        "\n",
        "y_val = one_hot_train_labels[:1000]\n",
        "partial_y_train = one_hot_train_labels[1000:]"
      ],
      "metadata": {
        "id": "le2VfsfwN7A4"
      },
      "execution_count": 27,
      "outputs": []
    },
    {
      "cell_type": "code",
      "source": [
        "history = model.fit(partial_x_train,\n",
        "                    partial_y_train,\n",
        "                    epochs=10,\n",
        "                    batch_size=512,\n",
        "                    validation_data=(x_val, y_val))"
      ],
      "metadata": {
        "colab": {
          "base_uri": "https://localhost:8080/"
        },
        "id": "N5N5ov4TN-go",
        "outputId": "988e8eb4-102e-4995-c37d-3a61c4a37639"
      },
      "execution_count": 37,
      "outputs": [
        {
          "output_type": "stream",
          "name": "stdout",
          "text": [
            "Epoch 1/10\n",
            "16/16 [==============================] - 2s 98ms/step - loss: 0.1298 - accuracy: 0.9567 - val_loss: 0.9982 - val_accuracy: 0.8000\n",
            "Epoch 2/10\n",
            "16/16 [==============================] - 1s 45ms/step - loss: 0.1278 - accuracy: 0.9564 - val_loss: 0.9777 - val_accuracy: 0.8070\n",
            "Epoch 3/10\n",
            "16/16 [==============================] - 1s 45ms/step - loss: 0.1209 - accuracy: 0.9590 - val_loss: 0.9627 - val_accuracy: 0.8170\n",
            "Epoch 4/10\n",
            "16/16 [==============================] - 1s 44ms/step - loss: 0.1166 - accuracy: 0.9578 - val_loss: 1.0089 - val_accuracy: 0.7980\n",
            "Epoch 5/10\n",
            "16/16 [==============================] - 1s 55ms/step - loss: 0.1159 - accuracy: 0.9578 - val_loss: 0.9963 - val_accuracy: 0.8100\n",
            "Epoch 6/10\n",
            "16/16 [==============================] - 1s 74ms/step - loss: 0.1140 - accuracy: 0.9578 - val_loss: 1.0030 - val_accuracy: 0.8120\n",
            "Epoch 7/10\n",
            "16/16 [==============================] - 1s 79ms/step - loss: 0.1077 - accuracy: 0.9590 - val_loss: 1.0078 - val_accuracy: 0.8080\n",
            "Epoch 8/10\n",
            "16/16 [==============================] - 1s 55ms/step - loss: 0.1119 - accuracy: 0.9575 - val_loss: 1.0612 - val_accuracy: 0.7960\n",
            "Epoch 9/10\n",
            "16/16 [==============================] - 1s 46ms/step - loss: 0.1031 - accuracy: 0.9600 - val_loss: 1.0653 - val_accuracy: 0.7960\n",
            "Epoch 10/10\n",
            "16/16 [==============================] - 1s 45ms/step - loss: 0.1076 - accuracy: 0.9568 - val_loss: 0.9924 - val_accuracy: 0.8090\n"
          ]
        }
      ]
    },
    {
      "cell_type": "code",
      "source": [
        "# Plot the loss and accuracy\n",
        "import matplotlib.pyplot as plt\n",
        "loss = history.history['loss']\n",
        "val_loss = history.history['val_loss']\n",
        "\n",
        "epochs = range(1, len(loss) + 1)\n",
        "\n",
        "plt.plot(epochs, loss, 'ro', label='Training loss')\n",
        "plt.plot(epochs, val_loss, 'b', label='Validation loss')\n",
        "plt.title('Training and validation loss')\n",
        "plt.xlabel('Epochs')\n",
        "plt.ylabel('Loss')\n",
        "plt.legend()"
      ],
      "metadata": {
        "colab": {
          "base_uri": "https://localhost:8080/",
          "height": 489
        },
        "id": "R9v29QA0OKAI",
        "outputId": "e1aa9663-0251-40da-bec5-a47c7ead22d6"
      },
      "execution_count": 31,
      "outputs": [
        {
          "output_type": "execute_result",
          "data": {
            "text/plain": [
              "<matplotlib.legend.Legend at 0x7ed55d23b640>"
            ]
          },
          "metadata": {},
          "execution_count": 31
        },
        {
          "output_type": "display_data",
          "data": {
            "text/plain": [
              "<Figure size 640x480 with 1 Axes>"
            ],
            "image/png": "[encoded data removed]"
          },
          "metadata": {}
        }
      ]
    },
    {
      "cell_type": "code",
      "source": [
        "plt.clf()\n",
        "acc = history.history['accuracy']\n",
        "val_acc = history.history['val_accuracy']\n",
        "\n",
        "plt.plot(epochs, acc, 'ro', label='Training acc')\n",
        "plt.plot(epochs, val_acc, 'b', label='Validation acc')\n",
        "plt.title('Training and validation accuracy')\n",
        "plt.xlabel('Epochs')\n",
        "plt.ylabel('Loss')\n",
        "plt.legend()\n",
        "plt.show()"
      ],
      "metadata": {
        "colab": {
          "base_uri": "https://localhost:8080/",
          "height": 472
        },
        "id": "M71hPCzSOTkH",
        "outputId": "ca9061bc-772d-4bd8-c3b1-7485317b0b27"
      },
      "execution_count": 36,
      "outputs": [
        {
          "output_type": "display_data",
          "data": {
            "text/plain": [
              "<Figure size 640x480 with 1 Axes>"
            ],
            "image/png": "[encoded data removed]"
          },
          "metadata": {}
        }
      ]
    },
    {
      "cell_type": "code",
      "source": [],
      "metadata": {
        "id": "_Ne5uDd0Oh23"
      },
      "execution_count": null,
      "outputs": []
    },
    {
      "cell_type": "markdown",
      "source": [
        "**Generating predictions**"
      ],
      "metadata": {
        "id": "CqBmu_XWPYz1"
      }
    },
    {
      "cell_type": "code",
      "source": [
        "predictions = model.predict(x_test)"
      ],
      "metadata": {
        "colab": {
          "base_uri": "https://localhost:8080/"
        },
        "id": "_nzRPKDZPbl-",
        "outputId": "10b0f1da-a6df-4d18-f93b-d42d3e950a13"
      },
      "execution_count": 38,
      "outputs": [
        {
          "output_type": "stream",
          "name": "stdout",
          "text": [
            "71/71 [==============================] - 1s 7ms/step\n"
          ]
        }
      ]
    },
    {
      "cell_type": "code",
      "source": [
        "predictions[0].shape"
      ],
      "metadata": {
        "colab": {
          "base_uri": "https://localhost:8080/"
        },
        "id": "hvJSYKXsPc9d",
        "outputId": "9cab157b-66e6-4a3f-b92f-18e6b6dcbba0"
      },
      "execution_count": 39,
      "outputs": [
        {
          "output_type": "execute_result",
          "data": {
            "text/plain": [
              "(46,)"
            ]
          },
          "metadata": {},
          "execution_count": 39
        }
      ]
    },
    {
      "cell_type": "code",
      "source": [
        "# The largest entry is the predicted class\n",
        "np.argmax(predictions[0])"
      ],
      "metadata": {
        "colab": {
          "base_uri": "https://localhost:8080/"
        },
        "id": "NglSz9TcPe4N",
        "outputId": "0d37b18d-4e1e-4a17-bbc5-d7c671955d01"
      },
      "execution_count": 40,
      "outputs": [
        {
          "output_type": "execute_result",
          "data": {
            "text/plain": [
              "3"
            ]
          },
          "metadata": {},
          "execution_count": 40
        }
      ]
    },
    {
      "cell_type": "markdown",
      "source": [
        "**Summary**  \n",
        "\n",
        "Here’s what you should take away from this example:\n",
        "1. If you’re trying to classify data points among N classes, your network should end\n",
        "with a Dense layer of size N (dim_of_previous_layer, N).\n",
        "2. In a single-label, multiclass classification problem, your network should end\n",
        "with a *softmax* activation so that it will output a probability distribution over the\n",
        "N output classes.\n",
        "3. *Categorical crossentropy* is almost always the loss function you should use for\n",
        "such problems. It minimizes the distance between the probability distributions\n",
        "output by the network and the true distribution of the targets.\n",
        "4. There are two ways to handle labels in multiclass classification:\n",
        "\n",
        "   *    Encoding the labels via categorical encoding (also known as one-hot encoding) and using *categorical_crossentropy* as a loss function\n",
        "   *   Encoding the labels as integers and using the *sparse_categorical_crossentropy*\n",
        "loss function\n",
        "5. If you need to classify data into a large number of categories, you should avoid\n",
        "creating information bottlenecks in your network due to intermediate layers\n",
        "that are too small."
      ],
      "metadata": {
        "id": "GHnt5kzaQEXL"
      }
    },
    {
      "cell_type": "code",
      "source": [],
      "metadata": {
        "id": "yBdZoXnlPmvt"
      },
      "execution_count": null,
      "outputs": []
    }
  ]
}